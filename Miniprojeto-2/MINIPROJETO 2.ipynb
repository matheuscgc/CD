{
 "cells": [
  {
   "cell_type": "markdown",
   "metadata": {
    "collapsed": true
   },
   "source": [
    "# MINIPROJETO 2 - Leonardo Grotti e Matheus Campbell"
   ]
  },
  {
   "cell_type": "code",
   "execution_count": 30,
   "metadata": {
    "collapsed": true
   },
   "outputs": [],
   "source": [
    "%matplotlib inline\n",
    "\n",
    "import os\n",
    "import matplotlib.pyplot as plt\n",
    "import pandas as pd\n",
    "import numpy as np\n",
    "from scipy import stats"
   ]
  },
  {
   "cell_type": "markdown",
   "metadata": {},
   "source": [
    "## 1)a)"
   ]
  },
  {
   "cell_type": "markdown",
   "metadata": {},
   "source": [
    "Distribuição Gamma\n",
    "Parâmetros: k = 1,65\n",
    "Teta = 0,52"
   ]
  },
  {
   "cell_type": "code",
   "execution_count": 78,
   "metadata": {
    "collapsed": true
   },
   "outputs": [],
   "source": [
    "k=1.65\n",
    "teta=0.52"
   ]
  },
  {
   "cell_type": "markdown",
   "metadata": {},
   "source": [
    "## 1)b)"
   ]
  },
  {
   "cell_type": "code",
   "execution_count": 79,
   "metadata": {
    "collapsed": false
   },
   "outputs": [],
   "source": [
    "espaco = stats.gamma.rvs(k, loc=0, scale=1, size=1000000, random_state=None)"
   ]
  },
  {
   "cell_type": "markdown",
   "metadata": {},
   "source": [
    "## 1)c)"
   ]
  },
  {
   "cell_type": "code",
   "execution_count": 80,
   "metadata": {
    "collapsed": false
   },
   "outputs": [
    {
     "name": "stdout",
     "output_type": "stream",
     "text": [
      "Média: 1.64841484881\n"
     ]
    }
   ],
   "source": [
    "media = espaco.mean()\n",
    "print (\"Média:\", media)"
   ]
  },
  {
   "cell_type": "code",
   "execution_count": 81,
   "metadata": {
    "collapsed": false
   },
   "outputs": [
    {
     "name": "stdout",
     "output_type": "stream",
     "text": [
      "Variância: 1.64638412777\n"
     ]
    }
   ],
   "source": [
    "var = espaco.var()\n",
    "print (\"Variância:\", var)"
   ]
  },
  {
   "cell_type": "markdown",
   "metadata": {},
   "source": [
    "## 2 - a, b, c, d"
   ]
  },
  {
   "cell_type": "code",
   "execution_count": 82,
   "metadata": {
    "collapsed": false
   },
   "outputs": [
    {
     "name": "stdout",
     "output_type": "stream",
     "text": [
      "Valor de uma média amostral: 5.21440644629\n"
     ]
    }
   ],
   "source": [
    "z = 0\n",
    "n = 0\n",
    "lista_medias = []\n",
    "while z < 10000:\n",
    "    soma = 0    \n",
    "    while n < 2:\n",
    "        soma+=np.random.choice(espaco)\n",
    "        n+=1\n",
    "    media = soma/2\n",
    "    lista_medias.append(media)\n",
    "    z+=1\n",
    "    n=0\n",
    "print (\"Valor de uma média amostral:\", media)"
   ]
  },
  {
   "cell_type": "markdown",
   "metadata": {},
   "source": [
    "### e)"
   ]
  },
  {
   "cell_type": "code",
   "execution_count": 83,
   "metadata": {
    "collapsed": false
   },
   "outputs": [
    {
     "data": {
      "text/plain": [
       "<matplotlib.text.Text at 0x1688dd114a8>"
      ]
     },
     "execution_count": 83,
     "metadata": {},
     "output_type": "execute_result"
    },
    {
     "data": {
      "image/png": "[encoded data removed]",
      "text/plain": [
       "<matplotlib.figure.Figure at 0x1688dbdb6a0>"
      ]
     },
     "metadata": {},
     "output_type": "display_data"
    }
   ],
   "source": [
    "faixa = np.arange(0, 7, 0.1)\n",
    "h = pd.Series(lista_medias)\n",
    "h.hist(bins = faixa, normed=True)\n",
    "plt.title (\"Histograma para n=2\")"
   ]
  },
  {
   "cell_type": "code",
   "execution_count": 84,
   "metadata": {
    "collapsed": false
   },
   "outputs": [
    {
     "name": "stdout",
     "output_type": "stream",
     "text": [
      "Média das médias amostrais: 1.6468605682564224\n"
     ]
    }
   ],
   "source": [
    "media_medias_amostrais = h.mean()\n",
    "print (\"Média das médias amostrais:\", media_medias_amostrais)"
   ]
  },
  {
   "cell_type": "code",
   "execution_count": 85,
   "metadata": {
    "collapsed": false
   },
   "outputs": [
    {
     "name": "stdout",
     "output_type": "stream",
     "text": [
      "Variância das médias amostrais: 0.8084543861084601\n"
     ]
    }
   ],
   "source": [
    "var_medias_amostrais = h.var()\n",
    "print (\"Variância das médias amostrais:\", var_medias_amostrais)"
   ]
  },
  {
   "cell_type": "markdown",
   "metadata": {},
   "source": [
    "### n=4"
   ]
  },
  {
   "cell_type": "code",
   "execution_count": 86,
   "metadata": {
    "collapsed": false
   },
   "outputs": [
    {
     "name": "stdout",
     "output_type": "stream",
     "text": [
      "Valor de uma média amostral: 2.05443988471\n"
     ]
    }
   ],
   "source": [
    "z = 0\n",
    "n = 0\n",
    "lista_medias = []\n",
    "while z < 10000:\n",
    "    soma = 0    \n",
    "    while n < 4:\n",
    "        soma+=np.random.choice(espaco)\n",
    "        n+=1\n",
    "    media = soma/4\n",
    "    lista_medias.append(media)\n",
    "    z+=1\n",
    "    n=0\n",
    "print (\"Valor de uma média amostral:\", media)"
   ]
  },
  {
   "cell_type": "code",
   "execution_count": 87,
   "metadata": {
    "collapsed": false
   },
   "outputs": [
    {
     "data": {
      "text/plain": [
       "<matplotlib.text.Text at 0x1688dcea128>"
      ]
     },
     "execution_count": 87,
     "metadata": {},
     "output_type": "execute_result"
    },
    {
     "data": {
      "image/png": "[encoded data removed]",
      "text/plain": [
       "<matplotlib.figure.Figure at 0x1688dd8e160>"
      ]
     },
     "metadata": {},
     "output_type": "display_data"
    }
   ],
   "source": [
    "h = pd.Series(lista_medias)\n",
    "h.hist(bins = faixa, normed=True)\n",
    "plt.title (\"Histograma para n=4\")"
   ]
  },
  {
   "cell_type": "code",
   "execution_count": 88,
   "metadata": {
    "collapsed": false
   },
   "outputs": [
    {
     "name": "stdout",
     "output_type": "stream",
     "text": [
      "Média das médias amostrais: 1.6507723273666182\n"
     ]
    }
   ],
   "source": [
    "media_medias_amostrais = h.mean()\n",
    "print (\"Média das médias amostrais:\", media_medias_amostrais)"
   ]
  },
  {
   "cell_type": "code",
   "execution_count": 89,
   "metadata": {
    "collapsed": false
   },
   "outputs": [
    {
     "name": "stdout",
     "output_type": "stream",
     "text": [
      "Variância das médias amostrais: 0.41508723833004024\n"
     ]
    }
   ],
   "source": [
    "var_medias_amostrais = h.var()\n",
    "print (\"Variância das médias amostrais:\", var_medias_amostrais)"
   ]
  },
  {
   "cell_type": "markdown",
   "metadata": {},
   "source": [
    "### n = 20"
   ]
  },
  {
   "cell_type": "code",
   "execution_count": 90,
   "metadata": {
    "collapsed": false
   },
   "outputs": [
    {
     "name": "stdout",
     "output_type": "stream",
     "text": [
      "Valor de uma média amostral: 2.536684534\n"
     ]
    }
   ],
   "source": [
    "z = 0\n",
    "n = 0\n",
    "lista_medias = []\n",
    "while z < 10000:\n",
    "    soma = 0    \n",
    "    while n < 20:\n",
    "        soma+=np.random.choice(espaco)\n",
    "        n+=1\n",
    "    media = soma/20\n",
    "    lista_medias.append(media)\n",
    "    z+=1\n",
    "    n=0\n",
    "print (\"Valor de uma média amostral:\", media)"
   ]
  },
  {
   "cell_type": "code",
   "execution_count": 91,
   "metadata": {
    "collapsed": false
   },
   "outputs": [
    {
     "data": {
      "text/plain": [
       "<matplotlib.text.Text at 0x1688de7a908>"
      ]
     },
     "execution_count": 91,
     "metadata": {},
     "output_type": "execute_result"
    },
    {
     "data": {
      "image/png": "[encoded data removed]",
      "text/plain": [
       "<matplotlib.figure.Figure at 0x1688df80390>"
      ]
     },
     "metadata": {},
     "output_type": "display_data"
    }
   ],
   "source": [
    "h = pd.Series(lista_medias)\n",
    "h.hist(bins = faixa, normed=True)\n",
    "plt.title (\"Histograma para n=20\")"
   ]
  },
  {
   "cell_type": "code",
   "execution_count": 92,
   "metadata": {
    "collapsed": false
   },
   "outputs": [
    {
     "name": "stdout",
     "output_type": "stream",
     "text": [
      "Média das médias amostrais: 1.6454750997488838\n"
     ]
    }
   ],
   "source": [
    "media_medias_amostrais = h.mean()\n",
    "print (\"Média das médias amostrais:\", media_medias_amostrais)"
   ]
  },
  {
   "cell_type": "code",
   "execution_count": 93,
   "metadata": {
    "collapsed": false
   },
   "outputs": [
    {
     "name": "stdout",
     "output_type": "stream",
     "text": [
      "Variância das médias amostrais: 0.08143743433978877\n"
     ]
    }
   ],
   "source": [
    "var_medias_amostrais = h.var()\n",
    "print (\"Variância das médias amostrais:\", var_medias_amostrais)"
   ]
  },
  {
   "cell_type": "markdown",
   "metadata": {},
   "source": [
    "### n = 50"
   ]
  },
  {
   "cell_type": "code",
   "execution_count": 94,
   "metadata": {
    "collapsed": false
   },
   "outputs": [
    {
     "name": "stdout",
     "output_type": "stream",
     "text": [
      "Valor de uma média amostral: 1.52131665151\n"
     ]
    }
   ],
   "source": [
    "z = 0\n",
    "n = 0\n",
    "lista_medias = []\n",
    "while z < 10000:\n",
    "    soma = 0    \n",
    "    while n < 50:\n",
    "        soma+=np.random.choice(espaco)\n",
    "        n+=1\n",
    "    media = soma/50\n",
    "    lista_medias.append(media)\n",
    "    z+=1\n",
    "    n=0\n",
    "print (\"Valor de uma média amostral:\", media)"
   ]
  },
  {
   "cell_type": "code",
   "execution_count": 95,
   "metadata": {
    "collapsed": false,
    "scrolled": true
   },
   "outputs": [
    {
     "data": {
      "text/plain": [
       "<matplotlib.text.Text at 0x1688e117048>"
      ]
     },
     "execution_count": 95,
     "metadata": {},
     "output_type": "execute_result"
    },
    {
     "data": {
      "image/png": "[encoded data removed]",
      "text/plain": [
       "<matplotlib.figure.Figure at 0x1688e0406d8>"
      ]
     },
     "metadata": {},
     "output_type": "display_data"
    }
   ],
   "source": [
    "h = pd.Series(lista_medias)\n",
    "h.hist(bins = faixa, normed=True)\n",
    "plt.title (\"Histograma para n=50\")"
   ]
  },
  {
   "cell_type": "code",
   "execution_count": 96,
   "metadata": {
    "collapsed": false
   },
   "outputs": [
    {
     "name": "stdout",
     "output_type": "stream",
     "text": [
      "Média das médias amostrais: 1.648825351225226\n"
     ]
    }
   ],
   "source": [
    "media_medias_amostrais = h.mean()\n",
    "print (\"Média das médias amostrais:\", media_medias_amostrais)"
   ]
  },
  {
   "cell_type": "code",
   "execution_count": 97,
   "metadata": {
    "collapsed": false
   },
   "outputs": [
    {
     "name": "stdout",
     "output_type": "stream",
     "text": [
      "Variância das médias amostrais: 0.03245879884208864\n"
     ]
    }
   ],
   "source": [
    "var_medias_amostrais = h.var()\n",
    "print (\"Variância das médias amostrais:\", var_medias_amostrais)"
   ]
  },
  {
   "cell_type": "markdown",
   "metadata": {},
   "source": [
    "## Conclusão primeira parte"
   ]
  },
  {
   "cell_type": "markdown",
   "metadata": {
    "collapsed": true
   },
   "source": [
    "De acordo o TLC (Teorema do Limite Central), quanto maior o tamanho da amostra, mais próximo de uma normal está a distribuição das médias amostrais.\n",
    "Criamos uma distribuição gamma de tamanho 1000000 com parâmetros aleatórios e pegamos, primeiramente, dois valores aleatórios dessa amostra e fizemos a média entre eles. Depois, repetimos o processo para 4, 20 e 50 valores aleatórios. Conforme o número de valores aleatórios aumentava, pôde-se observar, por meio dos histogramas, que a distribuição das médias amostrais tendia à uma distribuição normal."
   ]
  },
  {
   "cell_type": "code",
   "execution_count": 98,
   "metadata": {
    "collapsed": false
   },
   "outputs": [],
   "source": [
    "z = 0\n",
    "n = 0\n",
    "lista_medias = []\n",
    "lista1 = []\n",
    "lista9 = []\n",
    "while z < 10000: \n",
    "    while n < 50:\n",
    "        a = np.random.choice(espaco)\n",
    "        if n == 1:\n",
    "            lista1.append(a)\n",
    "        elif n == 9:\n",
    "            lista9.append(a)\n",
    "        n+=1\n",
    "    z+=1\n",
    "    n=0"
   ]
  },
  {
   "cell_type": "code",
   "execution_count": 99,
   "metadata": {
    "collapsed": false
   },
   "outputs": [
    {
     "data": {
      "text/plain": [
       "<matplotlib.text.Text at 0x1688c79aeb8>"
      ]
     },
     "execution_count": 99,
     "metadata": {},
     "output_type": "execute_result"
    },
    {
     "data": {
      "image/png": "[encoded data removed]",
      "text/plain": [
       "<matplotlib.figure.Figure at 0x1688ad54ac8>"
      ]
     },
     "metadata": {},
     "output_type": "display_data"
    }
   ],
   "source": [
    "l1 = pd.Series(lista1)\n",
    "l9 = pd.Series(lista9)\n",
    "l1.hist(bins = faixa, normed=True)\n",
    "plt.title (\"Histograma para X1\")"
   ]
  },
  {
   "cell_type": "code",
   "execution_count": 100,
   "metadata": {
    "collapsed": false
   },
   "outputs": [
    {
     "data": {
      "text/plain": [
       "<matplotlib.text.Text at 0x1688e308e48>"
      ]
     },
     "execution_count": 100,
     "metadata": {},
     "output_type": "execute_result"
    },
    {
     "data": {
      "image/png": "[encoded data removed]",
      "text/plain": [
       "<matplotlib.figure.Figure at 0x1688e1a8b00>"
      ]
     },
     "metadata": {},
     "output_type": "display_data"
    }
   ],
   "source": [
    "l9.hist(bins = faixa, normed=True)\n",
    "plt.title (\"Histograma para X2\")"
   ]
  },
  {
   "cell_type": "code",
   "execution_count": 101,
   "metadata": {
    "collapsed": false
   },
   "outputs": [
    {
     "name": "stdout",
     "output_type": "stream",
     "text": [
      "Correlação entre X1 e X9: -0.0196820054236\n"
     ]
    }
   ],
   "source": [
    "correlacao = l1.corr(l9)\n",
    "print (\"Correlação entre X1 e X9:\", correlacao)"
   ]
  },
  {
   "cell_type": "markdown",
   "metadata": {},
   "source": [
    "## Conclusão segunda parte"
   ]
  },
  {
   "cell_type": "markdown",
   "metadata": {},
   "source": [
    "Com os dois últimos histogramas projetados, foi possível osbervar grande semelhança com o \"Histograma para n=2\", em que foi feita a média amostral para dois valores aleatórios da amostra. Nos dois casos acima, foram feitos histogramas para dois valores específicos: o primeiro e o nono valor da amostra. Por mais que se aumente o número de valores retirados da amostra, os histogramas continuarão semelhantes, porém, caso seja feita a média entre esses valores sorteados para cada \"loop\", estará mais próximo de uma distribuição normal conforme o número de valores sorteados aumente.\n",
    "Além disso, um fator importante a se discutir é fato de os valores na amostra serem idênticamente distribuídos, ou seja, independemente de qual X pegarmos (X1, X9, X42 etc), a distribuição será sempre muito semelhante à dos dois histogramas acima, mesmo com o sorteio de qualquer X aleatório da amostra. "
   ]
  }
 ],
 "metadata": {
  "anaconda-cloud": {},
  "kernelspec": {
   "display_name": "Python [Root]",
   "language": "python",
   "name": "Python [Root]"
  },
  "language_info": {
   "codemirror_mode": {
    "name": "ipython",
    "version": 3
   },
   "file_extension": ".py",
   "mimetype": "text/x-python",
   "name": "python",
   "nbconvert_exporter": "python",
   "pygments_lexer": "ipython3",
   "version": "3.5.2"
  }
 },
 "nbformat": 4,
 "nbformat_minor": 0
}
