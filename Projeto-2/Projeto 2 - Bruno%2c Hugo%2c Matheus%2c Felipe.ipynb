{
 "cells": [
  {
   "cell_type": "markdown",
   "metadata": {},
   "source": [
    "# Projeto 2 -- Ciência dos Dados\n",
    "\n"
   ]
  },
  {
   "cell_type": "markdown",
   "metadata": {},
   "source": [
    "### Integrantes: Bruno Leite, Hugo Mendes, Matheus Campbell e Felipe Pereira\n"
   ]
  },
  {
   "cell_type": "markdown",
   "metadata": {},
   "source": [
    "### Introdução"
   ]
  },
  {
   "cell_type": "markdown",
   "metadata": {},
   "source": [
    "No projeto 2, foi utilizado como base o projeto de co-design de aplicativos do \"Portifólio de trabalhos\". A partir de tal portifólio elaboramos duas versões (denominadas genericamente de A e B) diferentes entre si. Após isso, foi dada a tarefa ao usuário de encontrar um determinado projeto em uma das interfaces. Assim, após um número grande de \"respostas\" de usuários, poderiamos ver qual modelo de interface requer um tempo menor para encontrar determinado projeto.\n",
    "\n",
    "Em nosso projeto a diferença entre as versões A e B se deu pela diferença nos nomes das categorias e nas fotos que as representavam. Desta maneira poderiamos avaliar qual tipo de interface ajudaria o usuário a encontrar o projeto escolhido (no nosso caso o projeto escolhido foi do Application Singularity).\n",
    "\n",
    "O site que fez o teste com os usuários foi o seguinte: https://teste-ab-ciencia-dos-dados.firebaseapp.com/index.html"
   ]
  },
  {
   "cell_type": "markdown",
   "metadata": {},
   "source": [
    "### Análise Descritiva\n"
   ]
  },
  {
   "cell_type": "code",
   "execution_count": 1,
   "metadata": {
    "collapsed": true
   },
   "outputs": [],
   "source": [
    "import pandas as pd\n",
    "import json\n",
    "import itertools\n",
    "import matplotlib.pyplot as plt\n",
    "import numpy as np\n",
    "import os\n",
    "%matplotlib inline"
   ]
  },
  {
   "cell_type": "code",
   "execution_count": 2,
   "metadata": {
    "collapsed": true
   },
   "outputs": [],
   "source": [
    "dados = open(\"teste-ab.json\")\n",
    "lines = dados.readlines()\n",
    "texto = \"\".join(lines)\n",
    "dados_fire = json.loads(texto)"
   ]
  },
  {
   "cell_type": "code",
   "execution_count": 3,
   "metadata": {
    "collapsed": true
   },
   "outputs": [],
   "source": [
    "for k,v in dados_fire[\"logs\"].items():\n",
    "    # print(k,v) # habilite para imprimir as chaves de mais alto nível\n",
    "    for chave, valor in v.items():\n",
    "        # print(chave, valor) # habilite para imprimir as chaves inferiores\n",
    "        pass # desabilite quando reabilitar a linha de cima"
   ]
  },
  {
   "cell_type": "code",
   "execution_count": 4,
   "metadata": {
    "collapsed": true
   },
   "outputs": [],
   "source": [
    "lista_dicionarios = []\n",
    "\n",
    "for k,v in dados_fire[\"logs\"].items():\n",
    "    lista_dicionarios.append(v)"
   ]
  },
  {
   "cell_type": "code",
   "execution_count": 5,
   "metadata": {
    "collapsed": false
   },
   "outputs": [
    {
     "name": "stdout",
     "output_type": "stream",
     "text": [
      "             tempo    tipo     user_id versao\n",
      "0    1479394627834  inicio  3628404743      B\n",
      "1    1479395549156  inicio  1691440476      B\n",
      "2    1479405094977  inicio  1263987790      B\n",
      "3    1479390747682   final  3628404743      B\n",
      "4    1479395892758   final  1752740566      B\n",
      "5    1479393032680  inicio  4076490866      B\n",
      "6    1479378300492   final   343915892      A\n",
      "7    1479404852137  inicio  1603300186      B\n",
      "8    1479381659005   final  1890498751      A\n",
      "9    1479403945428  inicio  2135023914      B\n",
      "10   1479395889309  inicio  1738006336      A\n",
      "11   1479395006049  inicio  3111315822      B\n",
      "12   1479394704377  inicio   594019486      B\n",
      "13   1479381645143  inicio  1890498751      A\n",
      "14   1479348739887  inicio   193708577      A\n",
      "15   1479383268057  inicio  3416774269      B\n",
      "16   1479396459441  inicio  3628404743      B\n",
      "17   1479395608464  inicio  1625061845      B\n",
      "18   1479393534858  inicio  1209563629      B\n",
      "19   1479393554023   final  1209563629      B\n",
      "20   1479349199016  inicio    72740114      A\n",
      "21   1479393047926   final  4076490866      B\n",
      "22   1479388420740  inicio  3789181448      A\n",
      "23   1479376981959   final  1546574286      B\n",
      "24   1479399923819  inicio  3774183163      A\n",
      "25   1479395026261  inicio  3111315822      B\n",
      "26   1479394676449  inicio   594019486      B\n",
      "27   1479388475029   final  3789181448      A\n",
      "28   1479378271266  inicio   343915892      A\n",
      "29   1479393019977  inicio  4076490866      B\n",
      "..             ...     ...         ...    ...\n",
      "122  1479383944534  inicio  2193863286      B\n",
      "123  1479395935864  inicio  1738006336      A\n",
      "124  1479404721867  inicio  1603300186      A\n",
      "125  1479384079123   final  3299522247      B\n",
      "126  1479404819160  inicio  1199188587      B\n",
      "127  1479399964780  inicio  3774183163      A\n",
      "128  1479407658710   final  1096759857      A\n",
      "129  1479393260446   final  2714753216      A\n",
      "130  1479405106411  inicio  1263987790      A\n",
      "131  1479394938729  inicio  2209707125      B\n",
      "132  1479394956687  inicio  2209707125      A\n",
      "133  1479403873139  inicio  2901778078      A\n",
      "134  1479394719524  inicio   594019486      A\n",
      "135  1479404841316  inicio  1199188587      A\n",
      "136  1479395961508   final  1738006336      A\n",
      "137  1479395415425   final  2209707125      A\n",
      "138  1479404797355  inicio  1199188587      B\n",
      "139  1479394425881   final  2897576454      A\n",
      "140  1479384133114  inicio  3789181448      B\n",
      "141  1479378196930   final  3187205062      A\n",
      "142  1479348708899  inicio   193708577      B\n",
      "143  1479403956948   final  2901778078      A\n",
      "144  1479396470509  inicio  3628404743      A\n",
      "145  1479403426219   final  1420255157      A\n",
      "146  1479403570967  inicio  3796913893      B\n",
      "147  1479404045363  inicio  3982406375      A\n",
      "148  1479376960424  inicio  1546574286      B\n",
      "149  1479399988556  inicio  3774183163      A\n",
      "150  1479348763326   final   193708577      A\n",
      "151  1479404682362  inicio  2135023914      A\n",
      "\n",
      "[152 rows x 4 columns]\n"
     ]
    }
   ],
   "source": [
    "dataframe = pd.DataFrame.from_records(lista_dicionarios)\n",
    "print(dataframe)"
   ]
  },
  {
   "cell_type": "code",
   "execution_count": 20,
   "metadata": {
    "collapsed": false
   },
   "outputs": [],
   "source": [
    "agrupado = dataframe.groupby(by=[\"user_id\", \"versao\"])\n",
    "users = set(dataframe.user_id) # We convert it to a set so that each user appear only once\n",
    "users = list(users)\n",
    "resultados = []\n",
    "\n",
    "for u in users:\n",
    "    for versao in [\"A\", \"B\"]:\n",
    "        if (u, versao) in agrupado.groups.keys(): # Check if a specific pair user/type of test happened\n",
    "            grupo1 =  agrupado.get_group((u, versao))\n",
    "            grupo1 = grupo1.sort_values(by=\"tempo\") # Para evitar que inícios sem fim gerem tempos negativos\n",
    "            \n",
    "            if len(grupo1[grupo1.tipo==\"final\"])>= 1 and len(grupo1[grupo1.tipo==\"inicio\"]) >= 1:\n",
    "                delta_t = grupo1[grupo1.tipo==\"final\"].iloc[-1].tempo - grupo1[grupo1.tipo==\"inicio\"].iloc[0].tempo\n",
    "                resultados.append({\"user_id\":u, \"delta_t\":delta_t, \"versao\":versao})\n"
   ]
  },
  {
   "cell_type": "code",
   "execution_count": 21,
   "metadata": {
    "collapsed": false
   },
   "outputs": [
    {
     "data": {
      "text/html": [
       "<div>\n",
       "<table border=\"1\" class=\"dataframe\">\n",
       "  <thead>\n",
       "    <tr style=\"text-align: right;\">\n",
       "      <th></th>\n",
       "      <th>delta_t</th>\n",
       "      <th>user_id</th>\n",
       "      <th>versao</th>\n",
       "    </tr>\n",
       "  </thead>\n",
       "  <tbody>\n",
       "    <tr>\n",
       "      <th>0</th>\n",
       "      <td>15.683</td>\n",
       "      <td>848249732</td>\n",
       "      <td>B</td>\n",
       "    </tr>\n",
       "    <tr>\n",
       "      <th>1</th>\n",
       "      <td>59.441</td>\n",
       "      <td>2897576454</td>\n",
       "      <td>A</td>\n",
       "    </tr>\n",
       "    <tr>\n",
       "      <th>2</th>\n",
       "      <td>1025.646</td>\n",
       "      <td>3628404743</td>\n",
       "      <td>A</td>\n",
       "    </tr>\n",
       "    <tr>\n",
       "      <th>3</th>\n",
       "      <td>61.151</td>\n",
       "      <td>3628404743</td>\n",
       "      <td>B</td>\n",
       "    </tr>\n",
       "    <tr>\n",
       "      <th>4</th>\n",
       "      <td>92.334</td>\n",
       "      <td>3789181448</td>\n",
       "      <td>A</td>\n",
       "    </tr>\n",
       "    <tr>\n",
       "      <th>5</th>\n",
       "      <td>12.940</td>\n",
       "      <td>3789181448</td>\n",
       "      <td>B</td>\n",
       "    </tr>\n",
       "    <tr>\n",
       "      <th>6</th>\n",
       "      <td>138.761</td>\n",
       "      <td>72740114</td>\n",
       "      <td>A</td>\n",
       "    </tr>\n",
       "    <tr>\n",
       "      <th>7</th>\n",
       "      <td>83.809</td>\n",
       "      <td>2901778078</td>\n",
       "      <td>A</td>\n",
       "    </tr>\n",
       "    <tr>\n",
       "      <th>8</th>\n",
       "      <td>23.439</td>\n",
       "      <td>193708577</td>\n",
       "      <td>A</td>\n",
       "    </tr>\n",
       "    <tr>\n",
       "      <th>9</th>\n",
       "      <td>921.103</td>\n",
       "      <td>2135023914</td>\n",
       "      <td>A</td>\n",
       "    </tr>\n",
       "    <tr>\n",
       "      <th>10</th>\n",
       "      <td>12.432</td>\n",
       "      <td>853823534</td>\n",
       "      <td>A</td>\n",
       "    </tr>\n",
       "    <tr>\n",
       "      <th>11</th>\n",
       "      <td>45.257</td>\n",
       "      <td>1096759857</td>\n",
       "      <td>A</td>\n",
       "    </tr>\n",
       "    <tr>\n",
       "      <th>12</th>\n",
       "      <td>30.343</td>\n",
       "      <td>1420255157</td>\n",
       "      <td>A</td>\n",
       "    </tr>\n",
       "    <tr>\n",
       "      <th>13</th>\n",
       "      <td>134.042</td>\n",
       "      <td>1901433276</td>\n",
       "      <td>A</td>\n",
       "    </tr>\n",
       "    <tr>\n",
       "      <th>14</th>\n",
       "      <td>13.862</td>\n",
       "      <td>1890498751</td>\n",
       "      <td>A</td>\n",
       "    </tr>\n",
       "    <tr>\n",
       "      <th>15</th>\n",
       "      <td>72.199</td>\n",
       "      <td>1738006336</td>\n",
       "      <td>A</td>\n",
       "    </tr>\n",
       "    <tr>\n",
       "      <th>16</th>\n",
       "      <td>9.747</td>\n",
       "      <td>11752259</td>\n",
       "      <td>B</td>\n",
       "    </tr>\n",
       "    <tr>\n",
       "      <th>17</th>\n",
       "      <td>48.456</td>\n",
       "      <td>3187205062</td>\n",
       "      <td>A</td>\n",
       "    </tr>\n",
       "    <tr>\n",
       "      <th>18</th>\n",
       "      <td>20.088</td>\n",
       "      <td>3299522247</td>\n",
       "      <td>B</td>\n",
       "    </tr>\n",
       "    <tr>\n",
       "      <th>19</th>\n",
       "      <td>76.122</td>\n",
       "      <td>5079238</td>\n",
       "      <td>A</td>\n",
       "    </tr>\n",
       "    <tr>\n",
       "      <th>20</th>\n",
       "      <td>79.278</td>\n",
       "      <td>1263987790</td>\n",
       "      <td>A</td>\n",
       "    </tr>\n",
       "    <tr>\n",
       "      <th>21</th>\n",
       "      <td>21.535</td>\n",
       "      <td>1546574286</td>\n",
       "      <td>B</td>\n",
       "    </tr>\n",
       "    <tr>\n",
       "      <th>22</th>\n",
       "      <td>106.097</td>\n",
       "      <td>1625061845</td>\n",
       "      <td>A</td>\n",
       "    </tr>\n",
       "    <tr>\n",
       "      <th>23</th>\n",
       "      <td>37.886</td>\n",
       "      <td>1752740566</td>\n",
       "      <td>B</td>\n",
       "    </tr>\n",
       "    <tr>\n",
       "      <th>24</th>\n",
       "      <td>38.653</td>\n",
       "      <td>3796913893</td>\n",
       "      <td>B</td>\n",
       "    </tr>\n",
       "    <tr>\n",
       "      <th>25</th>\n",
       "      <td>77.037</td>\n",
       "      <td>3982406375</td>\n",
       "      <td>A</td>\n",
       "    </tr>\n",
       "    <tr>\n",
       "      <th>26</th>\n",
       "      <td>62.268</td>\n",
       "      <td>1268140905</td>\n",
       "      <td>A</td>\n",
       "    </tr>\n",
       "    <tr>\n",
       "      <th>27</th>\n",
       "      <td>19.165</td>\n",
       "      <td>1209563629</td>\n",
       "      <td>B</td>\n",
       "    </tr>\n",
       "    <tr>\n",
       "      <th>28</th>\n",
       "      <td>27.949</td>\n",
       "      <td>4076490866</td>\n",
       "      <td>B</td>\n",
       "    </tr>\n",
       "    <tr>\n",
       "      <th>29</th>\n",
       "      <td>29.226</td>\n",
       "      <td>343915892</td>\n",
       "      <td>A</td>\n",
       "    </tr>\n",
       "    <tr>\n",
       "      <th>30</th>\n",
       "      <td>503.404</td>\n",
       "      <td>2209707125</td>\n",
       "      <td>A</td>\n",
       "    </tr>\n",
       "    <tr>\n",
       "      <th>31</th>\n",
       "      <td>476.821</td>\n",
       "      <td>2209707125</td>\n",
       "      <td>B</td>\n",
       "    </tr>\n",
       "    <tr>\n",
       "      <th>32</th>\n",
       "      <td>14.293</td>\n",
       "      <td>2193863286</td>\n",
       "      <td>B</td>\n",
       "    </tr>\n",
       "  </tbody>\n",
       "</table>\n",
       "</div>"
      ],
      "text/plain": [
       "     delta_t     user_id versao\n",
       "0     15.683   848249732      B\n",
       "1     59.441  2897576454      A\n",
       "2   1025.646  3628404743      A\n",
       "3     61.151  3628404743      B\n",
       "4     92.334  3789181448      A\n",
       "5     12.940  3789181448      B\n",
       "6    138.761    72740114      A\n",
       "7     83.809  2901778078      A\n",
       "8     23.439   193708577      A\n",
       "9    921.103  2135023914      A\n",
       "10    12.432   853823534      A\n",
       "11    45.257  1096759857      A\n",
       "12    30.343  1420255157      A\n",
       "13   134.042  1901433276      A\n",
       "14    13.862  1890498751      A\n",
       "15    72.199  1738006336      A\n",
       "16     9.747    11752259      B\n",
       "17    48.456  3187205062      A\n",
       "18    20.088  3299522247      B\n",
       "19    76.122     5079238      A\n",
       "20    79.278  1263987790      A\n",
       "21    21.535  1546574286      B\n",
       "22   106.097  1625061845      A\n",
       "23    37.886  1752740566      B\n",
       "24    38.653  3796913893      B\n",
       "25    77.037  3982406375      A\n",
       "26    62.268  1268140905      A\n",
       "27    19.165  1209563629      B\n",
       "28    27.949  4076490866      B\n",
       "29    29.226   343915892      A\n",
       "30   503.404  2209707125      A\n",
       "31   476.821  2209707125      B\n",
       "32    14.293  2193863286      B"
      ]
     },
     "execution_count": 21,
     "metadata": {},
     "output_type": "execute_result"
    }
   ],
   "source": [
    "grupo1.sort_values(by=\"tempo\")  \n",
    "dataframe_resumo = pd.DataFrame.from_records(resultados)\n",
    "dataframe_resumo.delta_t/=1000\n",
    "d = dataframe_resumo \n",
    "d"
   ]
  },
  {
   "cell_type": "code",
   "execution_count": 8,
   "metadata": {
    "collapsed": true
   },
   "outputs": [],
   "source": [
    "d.delta_t = d.delta_t.astype('float')\n",
    "d.versao = d.versao.astype('category')"
   ]
  },
  {
   "cell_type": "code",
   "execution_count": 25,
   "metadata": {
    "collapsed": false
   },
   "outputs": [
    {
     "data": {
      "text/plain": [
       "count      21.000000\n",
       "mean      173.074095\n",
       "std       285.173731\n",
       "min        12.432000\n",
       "25%        45.257000\n",
       "50%        76.122000\n",
       "75%       106.097000\n",
       "max      1025.646000\n",
       "Name: delta_t, dtype: float64"
      ]
     },
     "execution_count": 25,
     "metadata": {},
     "output_type": "execute_result"
    }
   ],
   "source": [
    "A = d.delta_t[(d.versao=='A')]\n",
    "A.describe()"
   ]
  },
  {
   "cell_type": "code",
   "execution_count": 26,
   "metadata": {
    "collapsed": false
   },
   "outputs": [
    {
     "data": {
      "text/plain": [
       "count     12.000000\n",
       "mean      62.992583\n",
       "std      131.127540\n",
       "min        9.747000\n",
       "25%       15.335500\n",
       "50%       20.811500\n",
       "75%       38.077750\n",
       "max      476.821000\n",
       "Name: delta_t, dtype: float64"
      ]
     },
     "execution_count": 26,
     "metadata": {},
     "output_type": "execute_result"
    }
   ],
   "source": [
    "B = d.delta_t[(d.delta_t < 149811.770)&(d.versao=='B')]\n",
    "B.describe()"
   ]
  },
  {
   "cell_type": "code",
   "execution_count": 27,
   "metadata": {
    "collapsed": false
   },
   "outputs": [
    {
     "data": {
      "text/plain": [
       "(70, 90]      5\n",
       "(10, 30]      4\n",
       "(30, 50]      3\n",
       "(130, 150]    2\n",
       "(90, 110]     2\n",
       "(50, 70]      2\n",
       "(150, 170]    0\n",
       "(110, 130]    0\n",
       "dtype: int64"
      ]
     },
     "execution_count": 27,
     "metadata": {},
     "output_type": "execute_result"
    }
   ],
   "source": [
    "faixa = np.arange(10,171,20)\n",
    "variávelCat = pd.cut(d.delta_t[(d.versao=='A')], faixa) \n",
    "variávelCat.value_counts()"
   ]
  },
  {
   "cell_type": "code",
   "execution_count": 28,
   "metadata": {
    "collapsed": false
   },
   "outputs": [
    {
     "data": {
      "text/plain": [
       "(10, 30]      7\n",
       "(30, 50]      2\n",
       "(50, 70]      1\n",
       "(150, 170]    0\n",
       "(130, 150]    0\n",
       "(110, 130]    0\n",
       "(90, 110]     0\n",
       "(70, 90]      0\n",
       "dtype: int64"
      ]
     },
     "execution_count": 28,
     "metadata": {},
     "output_type": "execute_result"
    }
   ],
   "source": [
    "variávelCat2 = pd.cut(d.delta_t[(d.delta_t < 149811.770)&(d.versao=='B')], faixa) \n",
    "variávelCat2.value_counts()"
   ]
  },
  {
   "cell_type": "code",
   "execution_count": 55,
   "metadata": {
    "collapsed": false
   },
   "outputs": [
    {
     "name": "stdout",
     "output_type": "stream",
     "text": [
      "\n"
     ]
    },
    {
     "data": {
      "image/png": "[encoded data removed]",
      "text/plain": [
       "<matplotlib.figure.Figure at 0x1199b7048>"
      ]
     },
     "metadata": {},
     "output_type": "display_data"
    }
   ],
   "source": [
    "print(\"\")\n",
    "plot = d.delta_t[(d.versao=='A')].plot.hist(bins = faixa, normed =1, color = 'b')\n",
    "plt.title(\"Histograma tempo (s) teste A\")\n",
    "plt.show()"
   ]
  },
  {
   "cell_type": "code",
   "execution_count": 54,
   "metadata": {
    "collapsed": false
   },
   "outputs": [
    {
     "name": "stdout",
     "output_type": "stream",
     "text": [
      "\n"
     ]
    },
    {
     "data": {
      "image/png": "[encoded data removed]",
      "text/plain": [
       "<matplotlib.figure.Figure at 0x119991dd8>"
      ]
     },
     "metadata": {},
     "output_type": "display_data"
    }
   ],
   "source": [
    "print(\"\")\n",
    "plot = d.delta_t[(d.versao=='B')].plot.hist(bins = faixa, normed =1, color = 'g')\n",
    "plt.title(\"Histograma tempo (s) teste B\")\n",
    "plt.show()"
   ]
  },
  {
   "cell_type": "code",
   "execution_count": 59,
   "metadata": {
    "collapsed": false
   },
   "outputs": [
    {
     "data": {
      "text/plain": [
       "<matplotlib.text.Text at 0x1198791d0>"
      ]
     },
     "execution_count": 59,
     "metadata": {},
     "output_type": "execute_result"
    },
    {
     "data": {
      "image/png": "[encoded data removed]",
      "text/plain": [
       "<matplotlib.figure.Figure at 0x11a31b7b8>"
      ]
     },
     "metadata": {},
     "output_type": "display_data"
    }
   ],
   "source": [
    "plot = d.delta_t[(d.versao=='A')].plot.hist(bins = faixa, normed =1, alpha = 0.5, color='b')\n",
    "plot = d.delta_t[(d.versao=='B')].plot.hist(bins = faixa, normed =1, alpha = 0.5, color='g')\n",
    "plt.title(\"Histograma tempo (s) teste A e B\")"
   ]
  },
  {
   "cell_type": "markdown",
   "metadata": {},
   "source": [
    "A partir dos histogramas acima pode-se perceber que o tempo que levou para um usuário encontrar o projeto proposto no modelo B foi menor do que o tempo no modelo A."
   ]
  },
  {
   "cell_type": "markdown",
   "metadata": {},
   "source": [
    "### Análise inferencial"
   ]
  },
  {
   "cell_type": "markdown",
   "metadata": {},
   "source": [
    "H0 :miA = miB\n",
    "   \n",
    "   A hipótese nula assume que a o mi de A seja igual ao mi de B.\n",
    "\n",
    "\n",
    "\n",
    "\n",
    "Ha :miA != miB\n",
    "   \n",
    "   A hipótese alternativa assume, por sua vez, que miA e miB sejam diferentes."
   ]
  },
  {
   "cell_type": "markdown",
   "metadata": {},
   "source": [
    "Estabelecimento do Z crítico:\n",
    "Como o teste é bilateral, assume-se que o alfa será divido entre as duas extremidades. Considerando um alfa = 0.05 = 5%, a area de rejeição à hipótese nula é de 0.025 na esquerda da cauda e na direita. Desta maneira a área de aceitção de torna 0,475 para esquerda e para a direita a partir do centro da normal. A partir deste valor, observando a tabela normal, obtem-se o valor de Zcrítico=1.96.\n"
   ]
  },
  {
   "cell_type": "code",
   "execution_count": 29,
   "metadata": {
    "collapsed": false
   },
   "outputs": [
    {
     "name": "stdout",
     "output_type": "stream",
     "text": [
      "3.8470682245184733\n"
     ]
    }
   ],
   "source": [
    "#estabelecendo parâmetros:\n",
    "mi = 62.993\n",
    "dp = 131.127\n",
    "n=21\n",
    "xl= 173.074\n",
    "alfa=0.05\n",
    "zteste = (xl - mi)/(dp/(n**(1/2)))\n",
    "print(zteste)\n"
   ]
  },
  {
   "cell_type": "markdown",
   "metadata": {},
   "source": [
    "O valor de zteste encontrado for praticamente o dobro do Zcrítico encontrado anteriormente. Com isso, conclui-se que ambos os testes não são iguais uma vez que o valor do zteste caiu na área de rejeição da hipótese nula."
   ]
  },
  {
   "cell_type": "markdown",
   "metadata": {},
   "source": [
    "### Conclusão"
   ]
  },
  {
   "cell_type": "markdown",
   "metadata": {},
   "source": [
    "A partir da análise descritiva, foi possível verificar que os usuários demoraram menos tempo para encontrar o projeto Application Singularity (projeto escolhido para o usuário encontrar) quando se depararam com o modelo de interface B do que quando se depararam com o modelo A. Tal análise foi feita, principalmente, por meio de histogramas.\n",
    "\n",
    "Isso porém não seria suficiente para constatar que ambos os testes têm uma diferença significativa entre si. Desta maneira foi feita a análise inferencial e, com ela, constatou-se que os testes implicavam em grandes mudanças na hora de encontrar o projeto proposto.\n",
    "\n",
    "Por fim, conclui-se que o modelo de interface B é mais adequado para o reconhecimento do projeto Application Singularity do que o modelo A."
   ]
  },
  {
   "cell_type": "code",
   "execution_count": null,
   "metadata": {
    "collapsed": true
   },
   "outputs": [],
   "source": []
  }
 ],
 "metadata": {
  "kernelspec": {
   "display_name": "Python [Root]",
   "language": "python",
   "name": "Python [Root]"
  },
  "language_info": {
   "codemirror_mode": {
    "name": "ipython",
    "version": 3
   },
   "file_extension": ".py",
   "mimetype": "text/x-python",
   "name": "python",
   "nbconvert_exporter": "python",
   "pygments_lexer": "ipython3",
   "version": "3.5.2"
  }
 },
 "nbformat": 4,
 "nbformat_minor": 0
}
